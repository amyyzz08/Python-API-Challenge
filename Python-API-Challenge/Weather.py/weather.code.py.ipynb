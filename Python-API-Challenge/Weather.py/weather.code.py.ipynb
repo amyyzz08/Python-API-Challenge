{
 "cells": [
  {
   "cell_type": "markdown",
   "id": "1e241488",
   "metadata": {},
   "source": [
    "# Weather.py"
   ]
  },
  {
   "cell_type": "code",
   "execution_count": 1,
   "id": "55ffa2e7",
   "metadata": {},
   "outputs": [],
   "source": [
    "#Dependencies\n",
    "import pandas as pd\n",
    "import matplotlib.pyplot as plt\n",
    "import requests\n",
    "import json\n",
    "import numpy as np\n",
    "import pprint \n",
    "import scipy.stats as sts\n",
    "\n",
    "#Import API key\n",
    "from api_keys import weather_api_key\n",
    "\n",
    "from citipy import citipy\n",
    "\n",
    "output_data_file_csv = \"output_data/city_data.csv\"\n",
    "\n",
    "#Range of latitudes and longitudes\n",
    "lat_range=(-100,100)\n",
    "lng_range=(-200,200)\n"
   ]
  },
  {
   "cell_type": "markdown",
   "id": "4a2c48eb",
   "metadata": {},
   "source": [
    "Generate City List\n"
   ]
  },
  {
   "cell_type": "code",
   "execution_count": 2,
   "id": "be2443a4",
   "metadata": {},
   "outputs": [
    {
     "data": {
      "text/plain": [
       "532"
      ]
     },
     "execution_count": 2,
     "metadata": {},
     "output_type": "execute_result"
    }
   ],
   "source": [
    "#Creating empty lists to store\n",
    "lat_lngs=[]\n",
    "cities=[]\n",
    "\n",
    "#Creating random combinations within lat and lng range\n",
    "lats=np.random.uniform(low=-100,high=100, size=1500)\n",
    "lngs=np.random.uniform(low=-200,high=200, size=1500)\n",
    "lat_lngs=zip(lats,lngs)\n",
    "\n",
    "#Identifying the cities \n",
    "for lat_lng in lat_lngs:\n",
    "    city=citipy.nearest_city(lat_lng[0],lat_lng[1]).city_name\n",
    "    \n",
    "    if city not in cities:\n",
    "        cities.append(city)\n",
    "        \n",
    "len(cities)\n"
   ]
  },
  {
   "cell_type": "markdown",
   "id": "622c1495",
   "metadata": {},
   "source": [
    "Performing API Calls"
   ]
  },
  {
   "cell_type": "code",
   "execution_count": 11,
   "id": "6d41a716",
   "metadata": {},
   "outputs": [
    {
     "name": "stdout",
     "output_type": "stream",
     "text": [
      "Beginning Data Retrieval\n",
      "------------------------\n",
      "Processing Record 1|Sorokyne\n",
      "Processing Record 2|Cape Town\n",
      "Processing Record 3|Saint-Pierre\n",
      "Processing Record 4|Bluff\n",
      "Processing Record 5|Chinchani\n",
      "Processing Record 6|Butaritari\n",
      "Processing Record 7|Kurikka\n",
      "Processing Record 8|Bismarck\n",
      "Processing Record 9|Dharapuram\n",
      "Processing Record 10|Egvekinot\n",
      "Processing Record 11|Santa Marta\n",
      "Processing Record 12|Kapaa\n",
      "Processing Record 13|Duncan\n",
      "Processing Record 14|Barrow\n",
      "Processing Record 15|Iqaluit\n",
      "City not found.. Skipping\n",
      "Processing Record 16|Vaini\n",
      "Processing Record 17|Mataura\n",
      "Processing Record 18|Qaanaaq\n",
      "City not found.. Skipping\n",
      "Processing Record 19|Hobart\n",
      "Processing Record 20|Chokurdakh\n",
      "Processing Record 21|Cap-aux-Meules\n",
      "Processing Record 22|La Palma\n",
      "Processing Record 23|Sinnamary\n",
      "Processing Record 24|Opuwo\n",
      "Processing Record 25|Acuitzio\n",
      "Processing Record 26|Navahrudak\n",
      "Processing Record 27|Yellowknife\n",
      "Processing Record 28|Kalemie\n",
      "Processing Record 29|Kruisfontein\n",
      "City not found.. Skipping\n",
      "Processing Record 30|Punta Arenas\n",
      "Processing Record 31|Beringovskiy\n",
      "City not found.. Skipping\n",
      "Processing Record 32|Vardø\n",
      "Processing Record 33|Kosa\n",
      "Processing Record 34|Albany\n",
      "Processing Record 35|Lata\n",
      "Processing Record 36|Kidal\n",
      "Processing Record 37|Asău\n",
      "Processing Record 38|Geraldton\n",
      "Processing Record 39|Hermanus\n",
      "Processing Record 40|Tasiilaq\n",
      "Processing Record 41|Rikitea\n",
      "Processing Record 42|Arraial do Cabo\n",
      "Processing Record 43|Port Alfred\n",
      "City not found.. Skipping\n",
      "City not found.. Skipping\n",
      "Processing Record 44|Leningradskiy\n",
      "Processing Record 45|Mapimí\n",
      "Processing Record 46|New Norfolk\n",
      "Processing Record 47|Ninghai\n",
      "Processing Record 48|Linxia Chengguanzhen\n",
      "Processing Record 49|Clyde River\n",
      "Processing Record 50|Mar del Plata\n",
      "Processing Record 51|Dikson\n",
      "Processing Record 52|Puerto Escondido\n",
      "Processing Record 53|Hervey Bay\n",
      "Processing Record 54|Saint-Philippe\n",
      "City not found.. Skipping\n",
      "Processing Record 55|Ushuaia\n",
      "City not found.. Skipping\n",
      "Processing Record 56|Bredasdorp\n",
      "Processing Record 57|Castro\n",
      "Processing Record 58|Limbang\n",
      "Processing Record 59|Saldanha\n",
      "Processing Record 60|Atuona\n",
      "Processing Record 61|Severo-Kuril'sk\n",
      "Processing Record 62|Bira\n",
      "Processing Record 63|Kalmunai\n",
      "Processing Record 64|Luan\n",
      "City not found.. Skipping\n",
      "Processing Record 65|Roald\n",
      "Processing Record 66|Touros\n",
      "Processing Record 67|Wanxian\n",
      "Processing Record 68|Tuktoyaktuk\n",
      "Processing Record 69|Porto-Novo\n",
      "Processing Record 70|Hasaki\n",
      "Processing Record 71|São Filipe\n",
      "Processing Record 72|Balestrand\n",
      "Processing Record 73|Plouzané\n",
      "City not found.. Skipping\n",
      "Processing Record 74|Fortuna\n",
      "Processing Record 75|Ryōtsu-minato\n",
      "Processing Record 76|East London\n",
      "Processing Record 77|Port Blair\n",
      "Processing Record 78|Hobyo\n",
      "Processing Record 79|Norman Wells\n",
      "Processing Record 80|Cherskiy\n",
      "Processing Record 81|Lavrentiya\n",
      "Processing Record 82|Narsaq\n",
      "Processing Record 83|Nome\n",
      "Processing Record 84|Nikolskoye\n",
      "Processing Record 85|Salamiyah\n",
      "Processing Record 86|Bobo-Dioulasso\n",
      "Processing Record 87|Strezhevoy\n",
      "Processing Record 88|Morehead\n",
      "Processing Record 89|Bathsheba\n",
      "Processing Record 90|Upernavik\n",
      "Processing Record 91|George Town\n",
      "Processing Record 92|Salalah\n",
      "Processing Record 93|Viedma\n",
      "Processing Record 94|Hilo\n",
      "Processing Record 95|Scarborough\n",
      "Processing Record 96|Carupano\n",
      "Processing Record 97|Rio Grande\n",
      "Processing Record 98|Sur\n",
      "Processing Record 99|Tateyama\n",
      "Processing Record 100|Bengkulu\n",
      "Processing Record 101|Lebu\n",
      "Processing Record 102|Busselton\n",
      "Processing Record 103|Margate\n",
      "City not found.. Skipping\n",
      "Processing Record 104|Cabedelo\n",
      "Processing Record 105|Chapais\n",
      "Processing Record 106|Palmer\n",
      "Processing Record 107|Ahipara\n",
      "Processing Record 108|Khatanga\n",
      "Processing Record 109|Ketchikan\n",
      "Processing Record 110|Prince Rupert\n",
      "City not found.. Skipping\n",
      "Processing Record 111|Sosnovo-Ozerskoye\n",
      "Processing Record 112|Kaitangata\n",
      "Processing Record 113|Hithadhoo\n",
      "Processing Record 114|Necoclí\n",
      "Processing Record 115|Longyearbyen\n",
      "Processing Record 116|Saskylakh\n",
      "City not found.. Skipping\n",
      "Processing Record 117|Zyryanka\n",
      "Processing Record 118|Isangel\n",
      "Processing Record 119|Siavonga\n",
      "Processing Record 120|Odienné\n",
      "Processing Record 121|Ullerslev\n",
      "Processing Record 122|Eureka\n",
      "Processing Record 123|Ribeira Grande\n",
      "Processing Record 124|Jalingo\n",
      "Processing Record 125|Olafsvik\n",
      "Processing Record 126|Onega\n",
      "Processing Record 127|Zamānia\n",
      "Processing Record 128|Souillac\n",
      "Processing Record 129|Santa Barbara\n",
      "Processing Record 130|Yüksekova\n",
      "Processing Record 131|Wahiawā\n",
      "City not found.. Skipping\n",
      "Processing Record 132|Banepā\n",
      "Processing Record 133|Port Lincoln\n",
      "Processing Record 134|Tolaga Bay\n",
      "Processing Record 135|Lindi\n",
      "Processing Record 136|Wukari\n",
      "Processing Record 137|Perdões\n",
      "Processing Record 138|Northam\n",
      "Processing Record 139|Arkhangelsk\n",
      "Processing Record 140|Codrington\n",
      "Processing Record 141|Airai\n",
      "Processing Record 142|Celestún\n",
      "Processing Record 143|Farah\n",
      "Processing Record 144|Motygino\n",
      "Processing Record 145|Jamestown\n",
      "Processing Record 146|Eydhafushi\n",
      "Processing Record 147|Xichang\n",
      "Processing Record 148|Hirara\n",
      "Processing Record 149|Pacific Grove\n",
      "Processing Record 150|Tautira\n",
      "Processing Record 151|Nantucket\n",
      "Processing Record 152|Vashkivtsi\n",
      "Processing Record 153|Wexford\n",
      "Processing Record 154|Rūdbār\n",
      "Processing Record 155|Ozernovskiy\n",
      "City not found.. Skipping\n",
      "City not found.. Skipping\n",
      "Processing Record 156|Maniwaki\n",
      "Processing Record 157|Istok\n",
      "Processing Record 158|Poum\n",
      "Processing Record 159|Henties Bay\n",
      "Processing Record 160|Ponta do Sol\n",
      "Processing Record 161|Grindavik\n",
      "Processing Record 162|Chipinge\n",
      "Processing Record 163|Paamiut\n",
      "Processing Record 164|Qaqortoq\n",
      "Processing Record 165|Kutum\n",
      "Processing Record 166|Kjøpsvik\n",
      "Processing Record 167|Sterling\n",
      "Processing Record 168|Teahupoo\n",
      "Processing Record 169|Kavaratti\n",
      "Processing Record 170|Waipawa\n",
      "Processing Record 171|Cerrito\n",
      "Processing Record 172|Broken Hill\n",
      "Processing Record 173|Raja\n",
      "Processing Record 174|Bethel\n",
      "Processing Record 175|Saýat\n",
      "Processing Record 176|Puerto Ayora\n",
      "Processing Record 177|Dingle\n",
      "Processing Record 178|Kailua\n",
      "Processing Record 179|Sitka\n",
      "Processing Record 180|León\n",
      "Processing Record 181|Havelock\n",
      "Processing Record 182|Kyshtovka\n",
      "Processing Record 183|Honiara\n",
      "Processing Record 184|Jalu\n",
      "Processing Record 185|Port Elizabeth\n",
      "Processing Record 186|Yangi Marg`ilon\n",
      "Processing Record 187|Malakal\n",
      "Processing Record 188|Lorengau\n",
      "City not found.. Skipping\n",
      "Processing Record 189|Comodoro Rivadavia\n",
      "Processing Record 190|Luwuk\n",
      "Processing Record 191|Road Town\n",
      "Processing Record 192|Chernyshevskiy\n",
      "Processing Record 193|Semnan\n",
      "Processing Record 194|Carnarvon\n",
      "Processing Record 195|Fare\n",
      "Processing Record 196|Kondopoga\n",
      "Processing Record 197|Lincoln\n",
      "Processing Record 198|Kavieng\n",
      "Processing Record 199|Richards Bay\n",
      "Processing Record 200|Diré\n",
      "City not found.. Skipping\n",
      "Processing Record 201|Hamilton\n",
      "Processing Record 202|Saint Paul Harbor\n",
      "Processing Record 203|Chui\n",
      "Processing Record 204|Tiksi\n",
      "Processing Record 205|Calama\n",
      "Processing Record 206|Dzhebariki-Khaya\n",
      "Processing Record 207|Vestmannaeyjar\n",
      "Processing Record 208|Bambous Virieux\n",
      "Processing Record 209|Vila Velha\n",
      "Processing Record 210|Kilindoni\n",
      "Processing Record 211|Arlit\n",
      "Processing Record 212|Santa Cruz de Barahona\n",
      "City not found.. Skipping\n",
      "Processing Record 213|Bulanash\n",
      "Processing Record 214|Shaoyang\n",
      "Processing Record 215|Port Hardy\n",
      "Processing Record 216|Shuyskoye\n",
      "City not found.. Skipping\n",
      "Processing Record 217|Tiznit Province\n",
      "Processing Record 218|Saint Anthony\n",
      "Processing Record 219|Coruripe\n",
      "Processing Record 220|Provideniya\n",
      "Processing Record 221|Mergen\n",
      "City not found.. Skipping\n",
      "Processing Record 222|Santa Maria\n",
      "Processing Record 223|Cidreira\n",
      "Processing Record 224|Evanston\n",
      "Processing Record 225|Presidente Epitácio\n",
      "Processing Record 226|Orange Cove\n",
      "City not found.. Skipping\n",
      "Processing Record 227|Itupiranga\n",
      "Processing Record 228|Ust-Tsilma\n",
      "Processing Record 229|Rauma\n",
      "Processing Record 230|Kulhudhuffushi\n",
      "Processing Record 231|Torbay\n",
      "Processing Record 232|Boyolangu\n",
      "Processing Record 233|Mozarlândia\n",
      "Processing Record 234|Pevek\n",
      "Processing Record 235|Avarua\n",
      "Processing Record 236|São Gabriel da Cachoeira\n",
      "Processing Record 237|Guerrero Negro\n",
      "Processing Record 238|Vila Franca do Campo\n",
      "Processing Record 239|San Patricio\n",
      "Processing Record 240|Synya\n",
      "Processing Record 241|Nanortalik\n",
      "City not found.. Skipping\n"
     ]
    },
    {
     "name": "stdout",
     "output_type": "stream",
     "text": [
      "Processing Record 242|Beira\n",
      "Processing Record 243|Buraidah\n",
      "Processing Record 244|Acaraú\n",
      "Processing Record 245|Loíza\n",
      "Processing Record 246|Morondava\n",
      "Processing Record 247|Baghdad\n",
      "Processing Record 248|Laguna\n",
      "City not found.. Skipping\n",
      "Processing Record 249|Maceió\n",
      "Processing Record 250|Yakeshi\n",
      "Processing Record 251|Garissa\n",
      "Processing Record 252|Mount Isa\n",
      "Processing Record 253|Fairbanks\n",
      "Processing Record 254|Mayo\n",
      "Processing Record 255|Nuuk\n",
      "Processing Record 256|Cabras\n",
      "Processing Record 257|Belyy Yar\n",
      "Processing Record 258|Panevezys\n",
      "Processing Record 259|Ceres\n",
      "Processing Record 260|Talnakh\n",
      "Processing Record 261|Natal\n",
      "Processing Record 262|Ixtapa\n",
      "Processing Record 263|Nago\n",
      "Processing Record 264|Tuatapere\n",
      "Processing Record 265|Caucayá\n",
      "Processing Record 266|Port Said\n",
      "Processing Record 267|Micheweni\n",
      "Processing Record 268|Sorong\n",
      "Processing Record 269|Yangambi\n",
      "Processing Record 270|Safi\n",
      "Processing Record 271|Las Palmas\n",
      "Processing Record 272|Ponta Delgada\n",
      "Processing Record 273|Port Macquarie\n",
      "Processing Record 274|Mount Gambier\n",
      "City not found.. Skipping\n",
      "Processing Record 275|Dunedin\n",
      "Processing Record 276|Vanimo\n",
      "Processing Record 277|Puerto Maldonado\n",
      "Processing Record 278|Bad Reichenhall\n",
      "City not found.. Skipping\n",
      "City not found.. Skipping\n",
      "Processing Record 279|Meulaboh\n",
      "City not found.. Skipping\n",
      "Processing Record 280|Thompson\n",
      "Processing Record 281|Russell\n",
      "Processing Record 282|Ostrovnoy\n",
      "Processing Record 283|Basco\n",
      "Processing Record 284|Umluj\n",
      "Processing Record 285|Mehamn\n",
      "Processing Record 286|Bontang\n",
      "Processing Record 287|Bauchi\n",
      "Processing Record 288|Genhe\n",
      "Processing Record 289|Faanui\n",
      "Processing Record 290|Iralaya\n",
      "Processing Record 291|Khāsh\n",
      "Processing Record 292|Saint George\n",
      "Processing Record 293|Kashgar\n",
      "Processing Record 294|Tilichiki\n",
      "Processing Record 295|Tereze\n",
      "Processing Record 296|La Macarena\n",
      "Processing Record 297|Stillwater\n",
      "Processing Record 298|Hue\n",
      "Processing Record 299|Hambantota\n",
      "Processing Record 300|Wanning\n",
      "Processing Record 301|Bilma\n",
      "Processing Record 302|Vallenar\n",
      "Processing Record 303|Den Helder\n",
      "Processing Record 304|Bud\n",
      "Processing Record 305|Amurzet\n",
      "Processing Record 306|Hofn\n",
      "Processing Record 307|Sarkand\n",
      "City not found.. Skipping\n",
      "City not found.. Skipping\n",
      "Processing Record 308|Rāmhormoz\n",
      "Processing Record 309|Hong Kong\n",
      "Processing Record 310|Juanjuí\n",
      "Processing Record 311|Agirish\n",
      "Processing Record 312|Coyhaique\n",
      "Processing Record 313|Ambilobe\n",
      "Processing Record 314|Tiarei\n",
      "Processing Record 315|Amapá\n",
      "Processing Record 316|Nāwa\n",
      "Processing Record 317|Quatre Cocos\n",
      "Processing Record 318|La Santisima Trinidad\n",
      "Processing Record 319|Fukuechō\n",
      "Processing Record 320|Caravelas\n",
      "Processing Record 321|Barra de Tecoanapa\n",
      "Processing Record 322|Cabo San Lucas\n",
      "Processing Record 323|Vilcún\n",
      "Processing Record 324|Mahébourg\n",
      "Processing Record 325|Basavana Bāgevādi\n",
      "Processing Record 326|San Quintín\n",
      "City not found.. Skipping\n",
      "Processing Record 327|Marabu\n",
      "Processing Record 328|Korla\n",
      "Processing Record 329|Portland\n",
      "Processing Record 330|Lompoc\n",
      "Processing Record 331|Kristinestad\n",
      "Processing Record 332|Garoowe\n",
      "Processing Record 333|Herat Province\n",
      "Processing Record 334|Mariehamn\n",
      "Processing Record 335|Pelym\n",
      "Processing Record 336|Khvoynaya\n",
      "Processing Record 337|Ratnagiri\n",
      "Processing Record 338|Valparaíso\n",
      "Processing Record 339|Esperance\n",
      "Processing Record 340|Mogadouro\n",
      "Processing Record 341|Kiama\n",
      "Processing Record 342|Tual\n",
      "Processing Record 343|Vadsø\n",
      "Processing Record 344|Bonavista\n",
      "City not found.. Skipping\n",
      "Processing Record 345|Khovd\n",
      "Processing Record 346|Katsuura\n",
      "Processing Record 347|Constitución\n",
      "Processing Record 348|Turbat\n",
      "Processing Record 349|Kieta\n",
      "Processing Record 350|Davlekanovo\n",
      "Processing Record 351|Sabang\n",
      "Processing Record 352|Raudeberg\n",
      "Processing Record 353|Yasnogorsk\n",
      "Processing Record 354|Vostok\n",
      "Processing Record 355|Aksarka\n",
      "Processing Record 356|Valdivia\n",
      "Processing Record 357|Moose Jaw\n",
      "Processing Record 358|Trelew\n",
      "Processing Record 359|Te Anau\n",
      "Processing Record 360|Luanda\n",
      "Processing Record 361|Karlstad\n",
      "Processing Record 362|Gornopravdinsk\n",
      "Processing Record 363|Nortelândia\n",
      "Processing Record 364|Haines Junction\n",
      "Processing Record 365|Mossamedes\n",
      "Processing Record 366|Denpasar\n",
      "Processing Record 367|Madang\n",
      "Processing Record 368|Yenotayevka\n",
      "Processing Record 369|Orangeburg\n",
      "Processing Record 370|North Bend\n",
      "Processing Record 371|Lüderitz\n",
      "Processing Record 372|Aromashevo\n",
      "Processing Record 373|Matara\n",
      "Processing Record 374|Sistranda\n",
      "Processing Record 375|Berlevåg\n",
      "Processing Record 376|Barcelona\n",
      "Processing Record 377|Mookane\n",
      "Processing Record 378|Emerald\n",
      "Processing Record 379|Kinston\n",
      "Processing Record 380|Cayenne\n",
      "Processing Record 381|Rypefjord\n",
      "Processing Record 382|Deputatsky\n",
      "Processing Record 383|Ust'-Shonosha\n",
      "Processing Record 384|Yumen\n",
      "Processing Record 385|San Benito\n",
      "Processing Record 386|Furano\n",
      "Processing Record 387|Lagoa\n",
      "Processing Record 388|Yangjiang\n",
      "City not found.. Skipping\n",
      "Processing Record 389|Manacor\n",
      "Processing Record 390|Boussé\n",
      "Processing Record 391|Bafoulabé\n",
      "Processing Record 392|Avilés\n",
      "Processing Record 393|Vila\n",
      "Processing Record 394|Stolin\n",
      "Processing Record 395|Khilok\n",
      "Processing Record 396|Sensuntepeque\n",
      "Processing Record 397|Matadi\n",
      "Processing Record 398|Rocha\n",
      "Processing Record 399|Shache\n",
      "Processing Record 400|Srednekolymsk\n",
      "Processing Record 401|Belaya Gora\n",
      "Processing Record 402|Kimbe\n",
      "Processing Record 403|Waingapu\n",
      "Processing Record 404|Santa Cruz de Tenerife\n",
      "City not found.. Skipping\n",
      "Processing Record 405|Bongandanga\n",
      "Processing Record 406|Aitape\n",
      "Processing Record 407|Bangaon\n",
      "Processing Record 408|Huntington\n",
      "Processing Record 409|Buin\n",
      "Processing Record 410|Kitimat\n",
      "Processing Record 411|Zhigansk\n",
      "Processing Record 412|Baculin\n",
      "Processing Record 413|Maravatío de Ocampo\n",
      "Processing Record 414|Kosonsoy\n",
      "Processing Record 415|Colares\n",
      "Processing Record 416|Nuevo Imperial\n",
      "Processing Record 417|Chengde\n",
      "City not found.. Skipping\n",
      "City not found.. Skipping\n",
      "Processing Record 418|Kungälv\n",
      "Processing Record 419|Ossora\n",
      "Processing Record 420|Hay River\n",
      "Processing Record 421|Padang\n",
      "Processing Record 422|Dunmore Town\n",
      "Processing Record 423|Birao\n",
      "City not found.. Skipping\n",
      "Processing Record 424|Camocim\n",
      "Processing Record 425|Vestmanna\n",
      "City not found.. Skipping\n",
      "Processing Record 426|Bubaque\n",
      "Processing Record 427|Marawi\n",
      "City not found.. Skipping\n",
      "Processing Record 428|Ancud\n",
      "Processing Record 429|Biltine\n",
      "Processing Record 430|Tura\n",
      "Processing Record 431|Phanom Sarakham\n",
      "Processing Record 432|Assiniboia\n",
      "Processing Record 433|Tacoronte\n",
      "Processing Record 434|Angoche\n",
      "Processing Record 435|Valley City\n",
      "Processing Record 436|Banda Aceh\n",
      "Processing Record 437|Hailun\n",
      "City not found.. Skipping\n",
      "Processing Record 438|Ampanihy\n",
      "Processing Record 439|Akdağmadeni\n",
      "Processing Record 440|Menongue\n",
      "Processing Record 441|Pokhara\n",
      "Processing Record 442|Villanueva\n",
      "Processing Record 443|Arnstadt\n",
      "Processing Record 444|Parabel'\n",
      "Processing Record 445|La Providencia\n",
      "Processing Record 446|Bayan\n",
      "Processing Record 447|Tommot\n",
      "Processing Record 448|Sittwe\n",
      "Processing Record 449|Vung Tau\n",
      "Processing Record 450|Emporia\n",
      "Processing Record 451|Faranah\n",
      "Processing Record 452|Jacupiranga\n",
      "Processing Record 453|Manta\n",
      "Processing Record 454|Muros\n",
      "Processing Record 455|Bad Bevensen\n",
      "Processing Record 456|Aasiaat\n",
      "Processing Record 457|Klaksvík\n",
      "Processing Record 458|Yeppoon\n",
      "Processing Record 459|Povenets\n",
      "Processing Record 460|City of San Pedro\n",
      "Processing Record 461|Baykit\n",
      "Processing Record 462|Morgan City\n",
      "Processing Record 463|Sørland\n",
      "Processing Record 464|Port-Gentil\n",
      "Processing Record 465|Belmonte\n",
      "Processing Record 466|Lewiston\n",
      "Processing Record 467|Aksu\n",
      "Processing Record 468|Okha\n",
      "Processing Record 469|Decatur\n",
      "City not found.. Skipping\n",
      "Processing Record 470|Gayéri\n",
      "Processing Record 471|Tirano\n",
      "Processing Record 472|Ogōri-shimogō\n",
      "Processing Record 473|Marsá Maţrūḩ\n",
      "Processing Record 474|Nelson Bay\n",
      "Processing Record 475|Havre-St-Pierre\n",
      "Processing Record 476|Djibouti\n",
      "Processing Record 477|Pontes e Lacerda\n",
      "City not found.. Skipping\n",
      "Processing Record 478|Vangaindrano\n",
      "Processing Record 479|Riyadh\n",
      "Processing Record 480|Pachino\n",
      "Processing Record 481|Grand Gaube\n",
      "Processing Record 482|Yerbogachën\n",
      "City not found.. Skipping\n",
      "Processing Record 483|Gisborne\n",
      "Processing Record 484|São Félix do Xingu\n",
      "Processing Record 485|Itigi\n",
      "Processing Record 486|Acapulco de Juárez\n"
     ]
    },
    {
     "name": "stdout",
     "output_type": "stream",
     "text": [
      "Processing Record 487|Prado\n",
      "Processing Record 488|Bang Rakam\n",
      "Processing Record 489|Ust'-Kulom\n"
     ]
    }
   ],
   "source": [
    "#Save config information \n",
    "base_url=\"http://api.openweathermap.org/data/2.5/weather?\"\n",
    "units=\"imperial\"\n",
    "\n",
    "#Build query \n",
    "query_url = f\"{base_url}appid={weather_api_key}&units={units}&q=\"\n",
    "\n",
    "#Creating lists to store tthe response information\n",
    "city_name=[]\n",
    "country=[]\n",
    "latitude=[]\n",
    "longitude=[]\n",
    "temperature=[]\n",
    "humidity=[]\n",
    "cloudiness=[]\n",
    "wind_speed=[]\n",
    "date=[]\n",
    "\n",
    "\n",
    "record=1\n",
    "\n",
    "print(f\"Beginning Data Retrieval\")\n",
    "print(f\"------------------------\")\n",
    "\n",
    "#Looping through to list of cities and performing the request on each\n",
    "for city in cities:\n",
    "    \n",
    "    try:\n",
    "        response_data=requests.get(query_url+city).json()\n",
    "        \n",
    "        city_name.append(response_data['name'])\n",
    "        country.append(response_data['sys']['country'])\n",
    "        latitude.append(response_data['coord']['lat'])\n",
    "        longitude.append(response_data['coord']['lon'])\n",
    "        temperature.append(response_data['main']['temp_max'])\n",
    "        humidity.append(response_data['main']['humidity'])\n",
    "        cloudiness.append(response_data['clouds']['all'])\n",
    "        wind_speed.append(response_data['wind']['speed'])\n",
    "        date.append(response_data['dt'])\n",
    "        \n",
    "        name=response_data['name']\n",
    "        print(f\"Processing Record {record}|{name}\")\n",
    "\n",
    "        #Increase counter each time\n",
    "        record=record+1\n",
    "\n",
    "    except KeyError: \n",
    "        print(\"City not found.. Skipping\")\n",
    "    continue\n",
    "    "
   ]
  },
  {
   "cell_type": "markdown",
   "id": "63ebd3dc",
   "metadata": {},
   "source": [
    "Convert Raw Data to DataFrame"
   ]
  },
  {
   "cell_type": "code",
   "execution_count": 12,
   "id": "5066faeb",
   "metadata": {},
   "outputs": [
    {
     "data": {
      "text/html": [
       "<div>\n",
       "<style scoped>\n",
       "    .dataframe tbody tr th:only-of-type {\n",
       "        vertical-align: middle;\n",
       "    }\n",
       "\n",
       "    .dataframe tbody tr th {\n",
       "        vertical-align: top;\n",
       "    }\n",
       "\n",
       "    .dataframe thead th {\n",
       "        text-align: right;\n",
       "    }\n",
       "</style>\n",
       "<table border=\"1\" class=\"dataframe\">\n",
       "  <thead>\n",
       "    <tr style=\"text-align: right;\">\n",
       "      <th></th>\n",
       "      <th>City</th>\n",
       "      <th>Lat</th>\n",
       "      <th>Lng</th>\n",
       "      <th>Max Temp</th>\n",
       "      <th>Humidity</th>\n",
       "      <th>Cloudiness</th>\n",
       "      <th>Wind Speed</th>\n",
       "      <th>Country</th>\n",
       "      <th>Date</th>\n",
       "    </tr>\n",
       "  </thead>\n",
       "  <tbody>\n",
       "    <tr>\n",
       "      <th>0</th>\n",
       "      <td>Sorokyne</td>\n",
       "      <td>48.2923</td>\n",
       "      <td>39.7373</td>\n",
       "      <td>41.05</td>\n",
       "      <td>37</td>\n",
       "      <td>2</td>\n",
       "      <td>7.81</td>\n",
       "      <td>UA</td>\n",
       "      <td>1635169600</td>\n",
       "    </tr>\n",
       "    <tr>\n",
       "      <th>1</th>\n",
       "      <td>Cape Town</td>\n",
       "      <td>-33.9258</td>\n",
       "      <td>18.4232</td>\n",
       "      <td>79.11</td>\n",
       "      <td>52</td>\n",
       "      <td>0</td>\n",
       "      <td>5.99</td>\n",
       "      <td>ZA</td>\n",
       "      <td>1635169399</td>\n",
       "    </tr>\n",
       "    <tr>\n",
       "      <th>2</th>\n",
       "      <td>Saint-Pierre</td>\n",
       "      <td>-21.3393</td>\n",
       "      <td>55.4781</td>\n",
       "      <td>78.48</td>\n",
       "      <td>70</td>\n",
       "      <td>90</td>\n",
       "      <td>9.22</td>\n",
       "      <td>RE</td>\n",
       "      <td>1635169602</td>\n",
       "    </tr>\n",
       "    <tr>\n",
       "      <th>3</th>\n",
       "      <td>Bluff</td>\n",
       "      <td>-46.6000</td>\n",
       "      <td>168.3333</td>\n",
       "      <td>52.88</td>\n",
       "      <td>93</td>\n",
       "      <td>100</td>\n",
       "      <td>9.75</td>\n",
       "      <td>NZ</td>\n",
       "      <td>1635169603</td>\n",
       "    </tr>\n",
       "    <tr>\n",
       "      <th>4</th>\n",
       "      <td>Chinchani</td>\n",
       "      <td>19.8667</td>\n",
       "      <td>72.7000</td>\n",
       "      <td>79.56</td>\n",
       "      <td>73</td>\n",
       "      <td>0</td>\n",
       "      <td>7.90</td>\n",
       "      <td>IN</td>\n",
       "      <td>1635169603</td>\n",
       "    </tr>\n",
       "    <tr>\n",
       "      <th>...</th>\n",
       "      <td>...</td>\n",
       "      <td>...</td>\n",
       "      <td>...</td>\n",
       "      <td>...</td>\n",
       "      <td>...</td>\n",
       "      <td>...</td>\n",
       "      <td>...</td>\n",
       "      <td>...</td>\n",
       "      <td>...</td>\n",
       "    </tr>\n",
       "    <tr>\n",
       "      <th>484</th>\n",
       "      <td>Itigi</td>\n",
       "      <td>-5.7000</td>\n",
       "      <td>34.4833</td>\n",
       "      <td>90.77</td>\n",
       "      <td>17</td>\n",
       "      <td>67</td>\n",
       "      <td>11.32</td>\n",
       "      <td>TZ</td>\n",
       "      <td>1635170091</td>\n",
       "    </tr>\n",
       "    <tr>\n",
       "      <th>485</th>\n",
       "      <td>Acapulco de Juárez</td>\n",
       "      <td>16.8634</td>\n",
       "      <td>-99.8901</td>\n",
       "      <td>77.02</td>\n",
       "      <td>87</td>\n",
       "      <td>100</td>\n",
       "      <td>5.03</td>\n",
       "      <td>MX</td>\n",
       "      <td>1635169965</td>\n",
       "    </tr>\n",
       "    <tr>\n",
       "      <th>486</th>\n",
       "      <td>Prado</td>\n",
       "      <td>-17.3411</td>\n",
       "      <td>-39.2208</td>\n",
       "      <td>80.87</td>\n",
       "      <td>80</td>\n",
       "      <td>98</td>\n",
       "      <td>7.25</td>\n",
       "      <td>BR</td>\n",
       "      <td>1635170092</td>\n",
       "    </tr>\n",
       "    <tr>\n",
       "      <th>487</th>\n",
       "      <td>Bang Rakam</td>\n",
       "      <td>16.7585</td>\n",
       "      <td>100.1174</td>\n",
       "      <td>78.80</td>\n",
       "      <td>94</td>\n",
       "      <td>20</td>\n",
       "      <td>0.00</td>\n",
       "      <td>TH</td>\n",
       "      <td>1635170094</td>\n",
       "    </tr>\n",
       "    <tr>\n",
       "      <th>488</th>\n",
       "      <td>Ust'-Kulom</td>\n",
       "      <td>61.6864</td>\n",
       "      <td>53.6902</td>\n",
       "      <td>29.52</td>\n",
       "      <td>75</td>\n",
       "      <td>100</td>\n",
       "      <td>9.15</td>\n",
       "      <td>RU</td>\n",
       "      <td>1635170094</td>\n",
       "    </tr>\n",
       "  </tbody>\n",
       "</table>\n",
       "<p>489 rows × 9 columns</p>\n",
       "</div>"
      ],
      "text/plain": [
       "                   City      Lat       Lng  Max Temp  Humidity  Cloudiness  \\\n",
       "0              Sorokyne  48.2923   39.7373     41.05        37           2   \n",
       "1             Cape Town -33.9258   18.4232     79.11        52           0   \n",
       "2          Saint-Pierre -21.3393   55.4781     78.48        70          90   \n",
       "3                 Bluff -46.6000  168.3333     52.88        93         100   \n",
       "4             Chinchani  19.8667   72.7000     79.56        73           0   \n",
       "..                  ...      ...       ...       ...       ...         ...   \n",
       "484               Itigi  -5.7000   34.4833     90.77        17          67   \n",
       "485  Acapulco de Juárez  16.8634  -99.8901     77.02        87         100   \n",
       "486               Prado -17.3411  -39.2208     80.87        80          98   \n",
       "487          Bang Rakam  16.7585  100.1174     78.80        94          20   \n",
       "488          Ust'-Kulom  61.6864   53.6902     29.52        75         100   \n",
       "\n",
       "     Wind Speed Country        Date  \n",
       "0          7.81      UA  1635169600  \n",
       "1          5.99      ZA  1635169399  \n",
       "2          9.22      RE  1635169602  \n",
       "3          9.75      NZ  1635169603  \n",
       "4          7.90      IN  1635169603  \n",
       "..          ...     ...         ...  \n",
       "484       11.32      TZ  1635170091  \n",
       "485        5.03      MX  1635169965  \n",
       "486        7.25      BR  1635170092  \n",
       "487        0.00      TH  1635170094  \n",
       "488        9.15      RU  1635170094  \n",
       "\n",
       "[489 rows x 9 columns]"
      ]
     },
     "execution_count": 12,
     "metadata": {},
     "output_type": "execute_result"
    }
   ],
   "source": [
    "weather_df=pd.DataFrame({\"City\":city_name,\n",
    "                        \"Lat\":latitude,\n",
    "                        \"Lng\":longitude,\n",
    "                        \"Max Temp\": temperature,\n",
    "                        \"Humidity\": humidity,\n",
    "                        \"Cloudiness\":cloudiness,\n",
    "                        \"Wind Speed\":wind_speed,\n",
    "                        \"Country\":country,\n",
    "                        \"Date\":date})\n",
    "weather_df"
   ]
  },
  {
   "cell_type": "code",
   "execution_count": 13,
   "id": "ad00448d",
   "metadata": {},
   "outputs": [],
   "source": [
    "#Removing cities with humidity >100%\n",
    "data_df=weather_df.loc[(weather_df[\"Humidity\"]<=100)]\n",
    "data_df\n",
    "\n",
    "#Exporting data to csv file\n",
    "data_df.to_csv(output_data_file_csv, index=False)"
   ]
  },
  {
   "cell_type": "markdown",
   "id": "4b55f19b",
   "metadata": {},
   "source": [
    "Plotting the Data"
   ]
  },
  {
   "cell_type": "code",
   "execution_count": 14,
   "id": "2cf40039",
   "metadata": {},
   "outputs": [
    {
     "data": {
      "image/png": "[encoded data removed]",
      "text/plain": [
       "<Figure size 432x288 with 1 Axes>"
      ]
     },
     "metadata": {
      "needs_background": "light"
     },
     "output_type": "display_data"
    }
   ],
   "source": [
    "#Latitude Vs Temperature\n",
    "plt.scatter(data_df[\"Lat\"],data_df[\"Max Temp\"],marker=\"o\",s=10)\n",
    "\n",
    "plt.title(\"Latitude Vs Maximum Temperature\")\n",
    "plt.xlabel(\"Latitude\")\n",
    "plt.ylabel(\"Maximum Temperature (F)\")\n",
    "plt.grid(True)\n",
    "\n",
    "plt.show()\n"
   ]
  },
  {
   "cell_type": "markdown",
   "id": "8cc3128c",
   "metadata": {},
   "source": [
    "The scatterplot above shows a relatively weak correlation between both laititude and temperature of specified. Just by eyeing the points, there could be a possible linear relationship between the city's latitiude and the maximum temperature."
   ]
  },
  {
   "cell_type": "markdown",
   "id": "3e854999",
   "metadata": {},
   "source": [
    "Latitude Vs Humidity"
   ]
  },
  {
   "cell_type": "code",
   "execution_count": 15,
   "id": "a4bf7241",
   "metadata": {},
   "outputs": [
    {
     "data": {
      "image/png": "[encoded data removed]",
      "text/plain": [
       "<Figure size 432x288 with 1 Axes>"
      ]
     },
     "metadata": {
      "needs_background": "light"
     },
     "output_type": "display_data"
    }
   ],
   "source": [
    "plt.scatter(data_df[\"Lat\"],data_df[\"Humidity\"],marker=\"o\",s=10)\n",
    "\n",
    "plt.title(\"Latitude Vs Humidity\")\n",
    "plt.xlabel(\"Latitude\")\n",
    "plt.ylabel(\"Humidity (%)\")\n",
    "plt.grid(True)\n",
    "\n",
    "plt.show()"
   ]
  },
  {
   "cell_type": "markdown",
   "id": "33939a8c",
   "metadata": {},
   "source": [
    "The scatterplot above demonstrates the relationship between latitude and humitdity of specific cities. The distribution is widely spread out and suggests there may be little to no correlation between the two variables"
   ]
  },
  {
   "cell_type": "markdown",
   "id": "14049c15",
   "metadata": {},
   "source": [
    "Latitude Vs Cloudiness"
   ]
  },
  {
   "cell_type": "code",
   "execution_count": 16,
   "id": "c810a3e3",
   "metadata": {},
   "outputs": [
    {
     "data": {
      "image/png": "[encoded data removed]",
      "text/plain": [
       "<Figure size 432x288 with 1 Axes>"
      ]
     },
     "metadata": {
      "needs_background": "light"
     },
     "output_type": "display_data"
    }
   ],
   "source": [
    "plt.scatter(data_df[\"Lat\"],data_df[\"Cloudiness\"],marker=\"o\",s=10)\n",
    "\n",
    "plt.title(\"Latitude Vs Cloudiness\")\n",
    "plt.xlabel(\"Latitude\")\n",
    "plt.ylabel(\"Cloudiness (%)\")\n",
    "plt.grid(True)\n",
    "\n",
    "plt.show()"
   ]
  },
  {
   "cell_type": "markdown",
   "id": "6ce70cf1",
   "metadata": {},
   "source": [
    "The relationship between latitiude and cloudiness is demonstrated here. Similar to laitidue vs humidity, there appears to not be a correlation between the two variables"
   ]
  },
  {
   "cell_type": "markdown",
   "id": "4871bc9c",
   "metadata": {},
   "source": [
    "Latitude Vs Wind Speed"
   ]
  },
  {
   "cell_type": "code",
   "execution_count": 17,
   "id": "a05c8514",
   "metadata": {},
   "outputs": [
    {
     "data": {
      "image/png": "[encoded data removed]",
      "text/plain": [
       "<Figure size 432x288 with 1 Axes>"
      ]
     },
     "metadata": {
      "needs_background": "light"
     },
     "output_type": "display_data"
    }
   ],
   "source": [
    "plt.scatter(data_df[\"Lat\"],data_df[\"Wind Speed\"],marker=\"o\",s=10)\n",
    "\n",
    "plt.title(\"Latitude Vs Wind Speed\")\n",
    "plt.xlabel(\"Latitude\")\n",
    "plt.ylabel(\"Wind Speed (mph)\")\n",
    "plt.grid(True)\n",
    "\n",
    "plt.show()"
   ]
  },
  {
   "cell_type": "markdown",
   "id": "46493ae6",
   "metadata": {},
   "source": [
    "This scatterplot shows the relationship between laitiude and wind speed of several different cities. At first glance there could be a weak correlation between the variables with several outliers"
   ]
  },
  {
   "cell_type": "markdown",
   "id": "f009d1ff",
   "metadata": {},
   "source": [
    "# Linear Regression"
   ]
  },
  {
   "cell_type": "code",
   "execution_count": 18,
   "id": "2eefe571",
   "metadata": {},
   "outputs": [],
   "source": [
    "import scipy.stats as sts\n",
    "\n",
    "#Creating northern and southern hemisphere DataFrames\n",
    "north_df=data_df.loc[(data_df[\"Lat\"]>0)]\n",
    "south_df=data_df.loc[(data_df[\"Lat\"]<0)]\n"
   ]
  },
  {
   "cell_type": "markdown",
   "id": "4020b75e",
   "metadata": {},
   "source": [
    "Northern Hemisphere: Maximum Temperature vs Latitude"
   ]
  },
  {
   "cell_type": "code",
   "execution_count": 19,
   "id": "ca2b7c48",
   "metadata": {},
   "outputs": [
    {
     "name": "stdout",
     "output_type": "stream",
     "text": [
      "The r-value:-0.8841542271732319\n"
     ]
    },
    {
     "data": {
      "image/png": "[encoded data removed]",
      "text/plain": [
       "<Figure size 432x288 with 1 Axes>"
      ]
     },
     "metadata": {
      "needs_background": "light"
     },
     "output_type": "display_data"
    }
   ],
   "source": [
    "#Plotting Northern hemisphere scatterplot\n",
    "plt.scatter(north_df[\"Lat\"],north_df[\"Max Temp\"])\n",
    "plt.title(\"Northern Hemisphere: Latitude vs Maximum Temperature\")\n",
    "plt.xlabel(\"Laitiude\")\n",
    "plt.ylabel(\"Max Temp (F)\")\n",
    "\n",
    "#Finding correlation value\n",
    "r_value=sts.pearsonr(north_df[\"Lat\"],north_df[\"Max Temp\"])\n",
    "print(f\"The r-value:{r_value[0]}\")\n",
    "\n",
    "#Regression line\n",
    "x=north_df[\"Lat\"]\n",
    "y=north_df[\"Max Temp\"]\n",
    "\n",
    "(slope,intercept,rvalue,pvalue,stderr)=sts.linregress(x,y)\n",
    "temp_predicted=x * slope +intercept\n",
    "regression= f\"y ={round(slope,2)} * x + {round(intercept,2)}\"\n",
    "\n",
    "plt.annotate(regression,(0,0),fontsize=12,color=\"red\")\n",
    "plt.plot(x,temp_predicted,color=\"red\")\n",
    "\n",
    "plt.show()"
   ]
  },
  {
   "cell_type": "markdown",
   "id": "fdb1059f",
   "metadata": {},
   "source": [
    "Southern Hemisphere: Maximum Temperature vs Laititude"
   ]
  },
  {
   "cell_type": "code",
   "execution_count": 20,
   "id": "ebf27b74",
   "metadata": {},
   "outputs": [
    {
     "name": "stdout",
     "output_type": "stream",
     "text": [
      "The r-value:0.7837503208593192\n"
     ]
    },
    {
     "data": {
      "image/png": "[encoded data removed]",
      "text/plain": [
       "<Figure size 432x288 with 1 Axes>"
      ]
     },
     "metadata": {
      "needs_background": "light"
     },
     "output_type": "display_data"
    }
   ],
   "source": [
    "#Plotting southern hemisphere scatterplot\n",
    "plt.scatter(south_df[\"Lat\"],south_df[\"Max Temp\"])\n",
    "plt.title(\"Southern Hemisphere: Latitude vs Maximum Temperature\")\n",
    "plt.xlabel(\"Laitiude\")\n",
    "plt.ylabel(\"Max Temp (F)\")\n",
    "\n",
    "#Finding correlation value\n",
    "r_value=sts.pearsonr(south_df[\"Lat\"],south_df[\"Max Temp\"])\n",
    "print(f\"The r-value:{r_value[0]}\")\n",
    "\n",
    "#Regression line\n",
    "x=south_df[\"Lat\"]\n",
    "y=south_df[\"Max Temp\"]\n",
    "\n",
    "(slope,intercept,rvalue,pvalue,stderr)=sts.linregress(x,y)\n",
    "temp_predicted=x * slope +intercept\n",
    "regression= f\"y ={round(slope,2)} * x + {round(intercept,2)}\"\n",
    "\n",
    "plt.annotate(regression,(-40,40),fontsize=12,color=\"red\")\n",
    "plt.plot(x,temp_predicted,color=\"red\")\n",
    "\n",
    "plt.show()"
   ]
  },
  {
   "cell_type": "markdown",
   "id": "12d405ae",
   "metadata": {},
   "source": [
    "Northern Hemisphere: Humidity vs Latitude"
   ]
  },
  {
   "cell_type": "code",
   "execution_count": 21,
   "id": "bc5affcf",
   "metadata": {},
   "outputs": [
    {
     "name": "stdout",
     "output_type": "stream",
     "text": [
      "The r-value:0.30494378741812894\n"
     ]
    },
    {
     "data": {
      "image/png": "[encoded data removed]",
      "text/plain": [
       "<Figure size 432x288 with 1 Axes>"
      ]
     },
     "metadata": {
      "needs_background": "light"
     },
     "output_type": "display_data"
    }
   ],
   "source": [
    "#Plotting Northern hemisphere scatterplot\n",
    "plt.scatter(north_df[\"Lat\"],north_df[\"Humidity\"])\n",
    "plt.title(\"Northern Hemisphere: Latitude vs Humidity\")\n",
    "plt.xlabel(\"Laitiude\")\n",
    "plt.ylabel(\"Humidity (%)\")\n",
    "\n",
    "#Finding correlation value\n",
    "r_value=sts.pearsonr(north_df[\"Lat\"],north_df[\"Humidity\"])\n",
    "print(f\"The r-value:{r_value[0]}\")\n",
    "\n",
    "#Regression line\n",
    "x=north_df[\"Lat\"]\n",
    "y=north_df[\"Humidity\"]\n",
    "\n",
    "(slope,intercept,rvalue,pvalue,stderr)=sts.linregress(x,y)\n",
    "humidity_predicted=x * slope +intercept\n",
    "regression= f\"y ={round(slope,2)} * x + {round(intercept,2)}\"\n",
    "\n",
    "plt.annotate(regression,(50,30),fontsize=12,color=\"red\")\n",
    "plt.plot(x,humidity_predicted,color=\"red\")\n",
    "\n",
    "plt.show()"
   ]
  },
  {
   "cell_type": "markdown",
   "id": "b15195bd",
   "metadata": {},
   "source": [
    "Southern Hemisphere: Humidity vs Latitude"
   ]
  },
  {
   "cell_type": "code",
   "execution_count": 22,
   "id": "051af5ba",
   "metadata": {},
   "outputs": [
    {
     "name": "stdout",
     "output_type": "stream",
     "text": [
      "The r-value:-0.03160557508666779\n"
     ]
    },
    {
     "data": {
      "image/png": "[encoded data removed]",
      "text/plain": [
       "<Figure size 432x288 with 1 Axes>"
      ]
     },
     "metadata": {
      "needs_background": "light"
     },
     "output_type": "display_data"
    }
   ],
   "source": [
    "#Plotting southern hemisphere scatterplot\n",
    "plt.scatter(south_df[\"Lat\"],south_df[\"Humidity\"])\n",
    "plt.title(\"Southern Hemisphere: Latitude vs Humidity\")\n",
    "plt.xlabel(\"Laitiude\")\n",
    "plt.ylabel(\"Humidity (%)\")\n",
    "\n",
    "#Finding correlation value\n",
    "r_value=sts.pearsonr(south_df[\"Lat\"],south_df[\"Humidity\"])\n",
    "print(f\"The r-value:{r_value[0]}\")\n",
    "\n",
    "#Regression line\n",
    "x=south_df[\"Lat\"]\n",
    "y=south_df[\"Humidity\"]\n",
    "\n",
    "(slope,intercept,rvalue,pvalue,stderr)=sts.linregress(x,y)\n",
    "humidity_predicted=x * slope +intercept\n",
    "regression= f\"y ={round(slope,2)} * x + {round(intercept,2)}\"\n",
    "\n",
    "plt.annotate(regression,(-50,20),fontsize=12,color=\"red\")\n",
    "plt.plot(x,humidity_predicted,color=\"red\")\n",
    "\n",
    "plt.show()"
   ]
  },
  {
   "cell_type": "markdown",
   "id": "befc82bf",
   "metadata": {},
   "source": [
    "Northern Hemisphere: Cloudiness vs Latitude"
   ]
  },
  {
   "cell_type": "code",
   "execution_count": 23,
   "id": "6477baa1",
   "metadata": {},
   "outputs": [
    {
     "name": "stdout",
     "output_type": "stream",
     "text": [
      "The r-value:0.1816691911817141\n"
     ]
    },
    {
     "data": {
      "image/png": "[encoded data removed]",
      "text/plain": [
       "<Figure size 432x288 with 1 Axes>"
      ]
     },
     "metadata": {
      "needs_background": "light"
     },
     "output_type": "display_data"
    }
   ],
   "source": [
    "#Plotting Northern hemisphere scatterplot\n",
    "plt.scatter(north_df[\"Lat\"],north_df[\"Cloudiness\"])\n",
    "plt.title(\"Northern Hemisphere: Latitude vs Cloudiness\")\n",
    "plt.xlabel(\"Laitiude\")\n",
    "plt.ylabel(\"Cloudiness (%)\")\n",
    "\n",
    "#Finding correlation value\n",
    "r_value=sts.pearsonr(north_df[\"Lat\"],north_df[\"Cloudiness\"])\n",
    "print(f\"The r-value:{r_value[0]}\")\n",
    "\n",
    "#Regression line\n",
    "x=north_df[\"Lat\"]\n",
    "y=north_df[\"Cloudiness\"]\n",
    "\n",
    "(slope,intercept,rvalue,pvalue,stderr)=sts.linregress(x,y)\n",
    "cloud_predicted=x * slope +intercept\n",
    "regression= f\"y ={round(slope,2)} * x + {round(intercept,2)}\"\n",
    "\n",
    "plt.annotate(regression,(50,30),fontsize=12,color=\"red\")\n",
    "plt.plot(x,cloud_predicted,color=\"red\")\n",
    "\n",
    "plt.show()"
   ]
  },
  {
   "cell_type": "markdown",
   "id": "49f71ab1",
   "metadata": {},
   "source": [
    "Southern Hemisphere: Cloudiness vs Latitude"
   ]
  },
  {
   "cell_type": "code",
   "execution_count": 24,
   "id": "a8c2a350",
   "metadata": {},
   "outputs": [
    {
     "name": "stdout",
     "output_type": "stream",
     "text": [
      "The r-value:0.2169661155985372\n"
     ]
    },
    {
     "data": {
      "image/png": "[encoded data removed]",
      "text/plain": [
       "<Figure size 432x288 with 1 Axes>"
      ]
     },
     "metadata": {
      "needs_background": "light"
     },
     "output_type": "display_data"
    }
   ],
   "source": [
    "#Plotting southern hemisphere scatterplot\n",
    "plt.scatter(south_df[\"Lat\"],south_df[\"Cloudiness\"])\n",
    "plt.title(\"Southern Hemisphere: Latitude vs Cloudiness\")\n",
    "plt.xlabel(\"Laitiude\")\n",
    "plt.ylabel(\"Cloudiness (%)\")\n",
    "\n",
    "#Finding correlation value\n",
    "r_value=sts.pearsonr(south_df[\"Lat\"],south_df[\"Cloudiness\"])\n",
    "print(f\"The r-value:{r_value[0]}\")\n",
    "\n",
    "#Regression line\n",
    "x=south_df[\"Lat\"]\n",
    "y=south_df[\"Cloudiness\"]\n",
    "\n",
    "(slope,intercept,rvalue,pvalue,stderr)=sts.linregress(x,y)\n",
    "cloud_predicted=x * slope +intercept\n",
    "regression= f\"y ={round(slope,2)} * x + {round(intercept,2)}\"\n",
    "\n",
    "plt.annotate(regression,(-50,20),fontsize=12,color=\"red\")\n",
    "plt.plot(x,cloud_predicted,color=\"red\")\n",
    "\n",
    "plt.show()"
   ]
  },
  {
   "cell_type": "markdown",
   "id": "f9c3a3b6",
   "metadata": {},
   "source": [
    "Northern Hemsiphere: Wind Speed vs Latitude"
   ]
  },
  {
   "cell_type": "code",
   "execution_count": 25,
   "id": "21f31930",
   "metadata": {},
   "outputs": [
    {
     "name": "stdout",
     "output_type": "stream",
     "text": [
      "The r-value:0.13500713144181875\n"
     ]
    },
    {
     "data": {
      "image/png": "[encoded data removed]",
      "text/plain": [
       "<Figure size 432x288 with 1 Axes>"
      ]
     },
     "metadata": {
      "needs_background": "light"
     },
     "output_type": "display_data"
    }
   ],
   "source": [
    "#Plotting Northern hemisphere scatterplot\n",
    "plt.scatter(north_df[\"Lat\"],north_df[\"Wind Speed\"])\n",
    "plt.title(\"Northern Hemisphere: Latitude vs Wind Speed\")\n",
    "plt.xlabel(\"Laitiude\")\n",
    "plt.ylabel(\"Wind Speed (mph)\")\n",
    "\n",
    "#Finding correlation value\n",
    "r_value=sts.pearsonr(north_df[\"Lat\"],north_df[\"Wind Speed\"])\n",
    "print(f\"The r-value:{r_value[0]}\")\n",
    "\n",
    "#Regression line\n",
    "x=north_df[\"Lat\"]\n",
    "y=north_df[\"Wind Speed\"]\n",
    "\n",
    "(slope,intercept,rvalue,pvalue,stderr)=sts.linregress(x,y)\n",
    "wind_predicted=x * slope +intercept\n",
    "regression= f\"y ={round(slope,2)} * x + {round(intercept,2)}\"\n",
    "\n",
    "plt.annotate(regression,(40,30),fontsize=12,color=\"red\")\n",
    "plt.plot(x,wind_predicted,color=\"red\")\n",
    "\n",
    "plt.show()"
   ]
  },
  {
   "cell_type": "markdown",
   "id": "828c27d8",
   "metadata": {},
   "source": [
    "Southern Hemisphere: Wind Speed vs Latitude"
   ]
  },
  {
   "cell_type": "code",
   "execution_count": 26,
   "id": "3d24e4ee",
   "metadata": {},
   "outputs": [
    {
     "name": "stdout",
     "output_type": "stream",
     "text": [
      "The r-value:-0.2309468028038676\n"
     ]
    },
    {
     "data": {
      "image/png": "[encoded data removed]",
      "text/plain": [
       "<Figure size 432x288 with 1 Axes>"
      ]
     },
     "metadata": {
      "needs_background": "light"
     },
     "output_type": "display_data"
    }
   ],
   "source": [
    "#Plotting southern hemisphere scatterplot\n",
    "plt.scatter(south_df[\"Lat\"],south_df[\"Wind Speed\"])\n",
    "plt.title(\"Southern Hemisphere: Latitude vs Wind Speed\")\n",
    "plt.xlabel(\"Laitiude\")\n",
    "plt.ylabel(\"Wind Speed (mph)\")\n",
    "\n",
    "#Finding correlation value\n",
    "r_value=sts.pearsonr(south_df[\"Lat\"],south_df[\"Wind Speed\"])\n",
    "print(f\"The r-value:{r_value[0]}\")\n",
    "\n",
    "#Regression line\n",
    "x=south_df[\"Lat\"]\n",
    "y=south_df[\"Wind Speed\"]\n",
    "\n",
    "(slope,intercept,rvalue,pvalue,stderr)=sts.linregress(x,y)\n",
    "wind_predicted=x * slope +intercept\n",
    "regression= f\"y ={round(slope,2)} * x + {round(intercept,2)}\"\n",
    "\n",
    "plt.annotate(regression,(-30,40),fontsize=12,color=\"red\")\n",
    "plt.plot(x,wind_predicted,color=\"red\")\n",
    "\n",
    "plt.show()"
   ]
  },
  {
   "cell_type": "code",
   "execution_count": null,
   "id": "0b10561f",
   "metadata": {},
   "outputs": [],
   "source": []
  }
 ],
 "metadata": {
  "kernelspec": {
   "display_name": "Python [conda env:PythonData] *",
   "language": "python",
   "name": "conda-env-PythonData-py"
  },
  "language_info": {
   "codemirror_mode": {
    "name": "ipython",
    "version": 3
   },
   "file_extension": ".py",
   "mimetype": "text/x-python",
   "name": "python",
   "nbconvert_exporter": "python",
   "pygments_lexer": "ipython3",
   "version": "3.7.11"
  }
 },
 "nbformat": 4,
 "nbformat_minor": 5
}
